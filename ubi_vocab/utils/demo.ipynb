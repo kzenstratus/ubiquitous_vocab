{
 "metadata": {
  "language_info": {
   "codemirror_mode": {
    "name": "ipython",
    "version": 3
   },
   "file_extension": ".py",
   "mimetype": "text/x-python",
   "name": "python",
   "nbconvert_exporter": "python",
   "pygments_lexer": "ipython3",
   "version": "3.7.10-final"
  },
  "orig_nbformat": 2,
  "kernelspec": {
   "name": "python3",
   "display_name": "Python 3.7.10 64-bit ('ubi_vocab': conda)",
   "metadata": {
    "interpreter": {
     "hash": "f06c84075800edc2bd11e6453ca768e797c1fd3591a69a16ca75713203271fa4"
    }
   }
  }
 },
 "nbformat": 4,
 "nbformat_minor": 2,
 "cells": [
  {
   "source": [
    "# Ubiquitous Vocab Demo\n",
    "GTech Final - Kevin Zen\n"
   ],
   "cell_type": "markdown",
   "metadata": {}
  },
  {
   "source": [
    "## Download pre-built models and data."
   ],
   "cell_type": "markdown",
   "metadata": {}
  },
  {
   "cell_type": "code",
   "execution_count": 1,
   "metadata": {},
   "outputs": [
    {
     "output_type": "stream",
     "name": "stdout",
     "text": [
      "Requirement already satisfied: en_core_web_sm==2.1.0 from https://github.com/explosion/spacy-models/releases/download/en_core_web_sm-2.1.0/en_core_web_sm-2.1.0.tar.gz#egg=en_core_web_sm==2.1.0 in /Users/kevinzen/miniconda3/lib/python3.7/site-packages (2.1.0)\n",
      "\u001b[38;5;2m✔ Download and installation successful\u001b[0m\n",
      "You can now load the model via spacy.load('en_core_web_sm')\n"
     ]
    }
   ],
   "source": [
    "!python -m spacy download en_core_web_sm"
   ]
  },
  {
   "cell_type": "code",
   "execution_count": 2,
   "metadata": {},
   "outputs": [
    {
     "output_type": "stream",
     "name": "stderr",
     "text": [
      "[nltk_data] Downloading package wordnet to\n[nltk_data]     /Users/kevinzen/nltk_data...\n[nltk_data]   Package wordnet is already up-to-date!\n"
     ]
    }
   ],
   "source": [
    "import sys\n",
    "import nltk\n",
    "nltk.download(\"wordnet\")\n",
    "from api import UbiVocab\n",
    "from main import eval_different_filters\n",
    "\n",
    "data_dir = \"../../data/\"\n"
   ]
  },
  {
   "source": [
    "## Interactive Vocab Replacement.\n",
    "\n",
    "* **article (str)**: Define your news article in the article variable.\n",
    "* **num_sentences (int)** : Specify the number of sentences around a target word to look at when considering the context of the word.\n",
    "* **run_lesk_wsd (bool)** : Use lesk while doing word sense disambiguation.\n",
    "* **run_bert_wsd (bool)**: Use bert for word sense disambiguation, comparing word definition and example of word uses with the word in the article. I have found that lesk works better for this at the moment."
   ],
   "cell_type": "markdown",
   "metadata": {}
  },
  {
   "cell_type": "code",
   "execution_count": 3,
   "metadata": {},
   "outputs": [
    {
     "output_type": "stream",
     "name": "stdout",
     "text": [
      "Reading existing file at ../../data/gre_vocab.csv\n",
      "2021-04-27 11:28:49,938 - main - INFO - Loading in spacy and sentence transformer models.\n",
      "2021-04-27 11:28:50,444 - transformer - INFO - Reading in pretrained model bert-base-nli-mean-tokens\n",
      "2021-04-27 11:28:50,444 - sentence_transformers.SentenceTransformer - INFO - Load pretrained SentenceTransformer: bert-base-nli-mean-tokens\n",
      "2021-04-27 11:28:50,445 - sentence_transformers.SentenceTransformer - INFO - Did not find folder bert-base-nli-mean-tokens\n",
      "2021-04-27 11:28:50,445 - sentence_transformers.SentenceTransformer - INFO - Try to download model from server: https://sbert.net/models/bert-base-nli-mean-tokens.zip\n",
      "2021-04-27 11:28:50,447 - sentence_transformers.SentenceTransformer - INFO - Load SentenceTransformer from folder: /Users/kevinzen/.cache/torch/sentence_transformers/sbert.net_models_bert-base-nli-mean-tokens\n",
      "2021-04-27 11:28:51,910 - sentence_transformers.SentenceTransformer - INFO - Use pytorch device: cpu\n",
      "2021-04-27 11:28:51,911 - main - INFO - Getting replaced sentences for each news article.\n",
      "2021-04-27 11:28:52,167 - transformer - INFO - Starting to get embedding\n",
      "2021-04-27 11:28:52,168 - transformer - INFO - Starting to embed 3 text with bert-base-nli-mean-tokens, workers : 8\n",
      "Batches: 100%|██████████| 1/1 [00:00<00:00, 23.03it/s]\n",
      "2021-04-27 11:28:52,220 - transformer - INFO - Starting to embed 3 text with bert-base-nli-mean-tokens, workers : 8\n",
      "Batches: 100%|██████████| 1/1 [00:00<00:00, 21.79it/s]\n",
      "2021-04-27 11:28:52,272 - transformer - INFO - Calculating cosine similarity scores\n",
      "2021-04-27 11:28:52,273 - main - INFO - word: 3, syn : 3, orig_text : 3, mod_text : 3, sim_score : 3\n",
      "2021-04-27 11:28:52,282 - main - INFO - Adding LESK results\n",
      "2021-04-27 11:28:52,293 - main - INFO - Replacing the entire article (2, 2)\n"
     ]
    }
   ],
   "source": [
    "ubi_vocab = UbiVocab(data_dir = data_dir)\n",
    "article = (f\"This is an article about the damaging effects of not learning vocabulary. \"\n",
    "                f\" This program seeks to create a routine exercise for learning vocabulary over time.\")\n",
    "\n",
    "# Process the input article above.\n",
    "ubi_vocab.process_article(article = article,\n",
    "                         run_lesk_wsd = True,\n",
    "                         run_bert_wsd = False,\n",
    "                         num_sentences = 1)\n"
   ]
  },
  {
   "cell_type": "code",
   "execution_count": 4,
   "metadata": {},
   "outputs": [
    {
     "output_type": "execute_result",
     "data": {
      "text/plain": [
       "0    This is an article about the detrimental effects of not learning vocabulary.  This program seeks to create a quotidian exercise for learning vocabulary over time.\n",
       "dtype: object"
      ]
     },
     "metadata": {},
     "execution_count": 4
    }
   ],
   "source": [
    "# View the new article with replaced words.\n",
    "# Here we see damaging was replaced with \"detrimental\", and routine was replaced with \"quotidian\".\n",
    "ubi_vocab.new_article"
   ]
  },
  {
   "cell_type": "code",
   "execution_count": 5,
   "metadata": {},
   "outputs": [
    {
     "output_type": "execute_result",
     "data": {
      "text/plain": [
       "          word       syn  \\\n",
       "0  detrimental  damaging   \n",
       "1      mundane   routine   \n",
       "2    quotidian   routine   \n",
       "\n",
       "                                                                             orig_text  \\\n",
       "0             This is an article about the damaging effects of not learning vocabulary   \n",
       "1    This program seeks to create a routine exercise for learning vocabulary over time   \n",
       "2    This program seeks to create a routine exercise for learning vocabulary over time   \n",
       "\n",
       "                                                                                mod_text  \\\n",
       "0            This is an article about the detrimental effects of not learning vocabulary   \n",
       "1      This program seeks to create a mundane exercise for learning vocabulary over time   \n",
       "2    This program seeks to create a quotidian exercise for learning vocabulary over time   \n",
       "\n",
       "   sim_score syn_pos_context    syn_pos                   synset  \\\n",
       "0   0.983425       adjective  adjective  Synset('damaging.s.01')   \n",
       "1   0.787758       adjective  adjective  Synset('everyday.s.01')   \n",
       "2   0.930106       adjective  adjective  Synset('everyday.s.01')   \n",
       "\n",
       "                      lesk  \n",
       "0  Synset('damaging.s.01')  \n",
       "1   Synset('mundane.s.03')  \n",
       "2  Synset('everyday.s.01')  "
      ],
      "text/html": "<div>\n<style scoped>\n    .dataframe tbody tr th:only-of-type {\n        vertical-align: middle;\n    }\n\n    .dataframe tbody tr th {\n        vertical-align: top;\n    }\n\n    .dataframe thead th {\n        text-align: right;\n    }\n</style>\n<table border=\"1\" class=\"dataframe\">\n  <thead>\n    <tr style=\"text-align: right;\">\n      <th></th>\n      <th>word</th>\n      <th>syn</th>\n      <th>orig_text</th>\n      <th>mod_text</th>\n      <th>sim_score</th>\n      <th>syn_pos_context</th>\n      <th>syn_pos</th>\n      <th>synset</th>\n      <th>lesk</th>\n    </tr>\n  </thead>\n  <tbody>\n    <tr>\n      <th>0</th>\n      <td>detrimental</td>\n      <td>damaging</td>\n      <td>This is an article about the damaging effects of not learning vocabulary</td>\n      <td>This is an article about the detrimental effects of not learning vocabulary</td>\n      <td>0.983425</td>\n      <td>adjective</td>\n      <td>adjective</td>\n      <td>Synset('damaging.s.01')</td>\n      <td>Synset('damaging.s.01')</td>\n    </tr>\n    <tr>\n      <th>1</th>\n      <td>mundane</td>\n      <td>routine</td>\n      <td>This program seeks to create a routine exercise for learning vocabulary over time</td>\n      <td>This program seeks to create a mundane exercise for learning vocabulary over time</td>\n      <td>0.787758</td>\n      <td>adjective</td>\n      <td>adjective</td>\n      <td>Synset('everyday.s.01')</td>\n      <td>Synset('mundane.s.03')</td>\n    </tr>\n    <tr>\n      <th>2</th>\n      <td>quotidian</td>\n      <td>routine</td>\n      <td>This program seeks to create a routine exercise for learning vocabulary over time</td>\n      <td>This program seeks to create a quotidian exercise for learning vocabulary over time</td>\n      <td>0.930106</td>\n      <td>adjective</td>\n      <td>adjective</td>\n      <td>Synset('everyday.s.01')</td>\n      <td>Synset('everyday.s.01')</td>\n    </tr>\n  </tbody>\n</table>\n</div>"
     },
     "metadata": {},
     "execution_count": 5
    }
   ],
   "source": [
    "# View the underlying reasons for the replacement.\n",
    "# We see that routine was matched to both mundane and quotidian and correctly chose quotidian. \n",
    "ubi_vocab.highlights_df"
   ]
  },
  {
   "source": [],
   "cell_type": "markdown",
   "metadata": {}
  },
  {
   "source": [
    "# POS filtering and LESK is currently the most effective combination.\n",
    "## Below are the metrics for each method.\n",
    "For future work, BERT for WSD is the state of the art and while I didn't find it as effective here, I believe I would need to train a model on these specific words, and compare the average of their sentence vectors with the modified sentence."
   ],
   "cell_type": "markdown",
   "metadata": {}
  },
  {
   "cell_type": "code",
   "execution_count": 6,
   "metadata": {},
   "outputs": [
    {
     "output_type": "stream",
     "name": "stdout",
     "text": [
      "Reading existing file at ../../data/gre_vocab.csv\n"
     ]
    }
   ],
   "source": [
    "master_df, metrics_df = eval_different_filters(data_dir = data_dir)"
   ]
  },
  {
   "cell_type": "code",
   "execution_count": 7,
   "metadata": {},
   "outputs": [
    {
     "output_type": "execute_result",
     "data": {
      "text/plain": [
       "                 model  precision  recall        f1  tp  fp  fn  tn\n",
       "0       pos_lesk_score   0.333333    1.00  0.500000   4   8   0  36\n",
       "0       pos_bert_score   0.500000    0.25  0.333333   1   1   3  43\n",
       "0  pos_bert_lesk_score   0.500000    0.25  0.333333   1   1   3  43\n",
       "0           lesk_score   0.181818    1.00  0.307692   4  18   0  26\n",
       "0            pos_score   0.173913    1.00  0.296296   4  19   0  25\n",
       "0       bert_wsd_score   0.200000    0.25  0.222222   1   4   3  40\n",
       "0                 base   0.083333    1.00  0.153846   4  44   0   0"
      ],
      "text/html": "<div>\n<style scoped>\n    .dataframe tbody tr th:only-of-type {\n        vertical-align: middle;\n    }\n\n    .dataframe tbody tr th {\n        vertical-align: top;\n    }\n\n    .dataframe thead th {\n        text-align: right;\n    }\n</style>\n<table border=\"1\" class=\"dataframe\">\n  <thead>\n    <tr style=\"text-align: right;\">\n      <th></th>\n      <th>model</th>\n      <th>precision</th>\n      <th>recall</th>\n      <th>f1</th>\n      <th>tp</th>\n      <th>fp</th>\n      <th>fn</th>\n      <th>tn</th>\n    </tr>\n  </thead>\n  <tbody>\n    <tr>\n      <th>0</th>\n      <td>pos_lesk_score</td>\n      <td>0.333333</td>\n      <td>1.00</td>\n      <td>0.500000</td>\n      <td>4</td>\n      <td>8</td>\n      <td>0</td>\n      <td>36</td>\n    </tr>\n    <tr>\n      <th>0</th>\n      <td>pos_bert_score</td>\n      <td>0.500000</td>\n      <td>0.25</td>\n      <td>0.333333</td>\n      <td>1</td>\n      <td>1</td>\n      <td>3</td>\n      <td>43</td>\n    </tr>\n    <tr>\n      <th>0</th>\n      <td>pos_bert_lesk_score</td>\n      <td>0.500000</td>\n      <td>0.25</td>\n      <td>0.333333</td>\n      <td>1</td>\n      <td>1</td>\n      <td>3</td>\n      <td>43</td>\n    </tr>\n    <tr>\n      <th>0</th>\n      <td>lesk_score</td>\n      <td>0.181818</td>\n      <td>1.00</td>\n      <td>0.307692</td>\n      <td>4</td>\n      <td>18</td>\n      <td>0</td>\n      <td>26</td>\n    </tr>\n    <tr>\n      <th>0</th>\n      <td>pos_score</td>\n      <td>0.173913</td>\n      <td>1.00</td>\n      <td>0.296296</td>\n      <td>4</td>\n      <td>19</td>\n      <td>0</td>\n      <td>25</td>\n    </tr>\n    <tr>\n      <th>0</th>\n      <td>bert_wsd_score</td>\n      <td>0.200000</td>\n      <td>0.25</td>\n      <td>0.222222</td>\n      <td>1</td>\n      <td>4</td>\n      <td>3</td>\n      <td>40</td>\n    </tr>\n    <tr>\n      <th>0</th>\n      <td>base</td>\n      <td>0.083333</td>\n      <td>1.00</td>\n      <td>0.153846</td>\n      <td>4</td>\n      <td>44</td>\n      <td>0</td>\n      <td>0</td>\n    </tr>\n  </tbody>\n</table>\n</div>"
     },
     "metadata": {},
     "execution_count": 7
    }
   ],
   "source": [
    "metrics_df.sort_values(\"f1\", ascending = False)"
   ]
  },
  {
   "cell_type": "code",
   "execution_count": 8,
   "metadata": {},
   "outputs": [
    {
     "output_type": "execute_result",
     "data": {
      "text/plain": [
       "ny people in her corner, and that her parents and their new spouses are friendly enough to show up to her soccer game wearing custom-made shirts   \n",
       "25                                                                                                                                                                        But, thankfully, the irrefutable responses and support for Plaayer's family seems to outweigh the bad   \n",
       "26           \" No matter how the negative versus irrefutable comments weigh, we're happy to see that this little girl has so many people in her corner, and that her parents and their new spouses are friendly enough to show up to her soccer game wearing custom-made shirts   \n",
       "27                                                                                                                                                             So, when Emilee Plaayer posted a photo of her family at a soccer mettlesome, some people just couldn't handle it   \n",
       "28   Her photo has been shared on Facebook more than 77,000 times and made its way over to Twitter as well, where people who know nothing about the family except that they were all at a soccer mettlesome together have taken others to task for ignorant or hurtful comments   \n",
       "29        \" No matter how the negative versus positive comments weigh, we're happy to see that this little girl has so many people in her corner, and that her parents and their new spouses are friendly enough to show up to her soccer mettlesome wearing custom-made shirts   \n",
       "30                                                                                                   Welcome to Mothership: Parenting stories you actually want to read, whether you're thinking about or perfunctory on kids, from egg-freezing to taking home baby and beyond   \n",
       "31                                                                           Plaayer is the stepmother of the picayune girl in the photo, who is pictured in the middle with Plaayer and her husband (the girl's father) on the left and her mother and stepfather on the right   \n",
       "32            \" No matter how the negative versus positive comments weigh, we're happy to see that this picayune girl has so many people in her corner, and that her parents and their new spouses are friendly enough to show up to her soccer game wearing custom-made shirts   \n",
       "33                                                                                                                                             Then, instead of being 'picayune' as you are all claiming it is, they constantly worked together to support us and make us happy   \n",
       "34        \"Because of us, I will never believe co-parenting can't work! I KNOW through experience it CAN WORK! Choose to do what's best for your child and everything will just precipitate into place,\" Plaayer wrote when she posted the photo to both Instagram and Facebook   \n",
       "35                                                                                                 Yet, although we construe all kinds of families on television now, it seems like some people still take their idea of what a \"real\" family looks like from the 1950s sitcoms   \n",
       "36         \" No matter how the negative versus positive comments weigh, we're happy to construe that this little girl has so many people in her corner, and that her parents and their new spouses are friendly enough to show up to her soccer game wearing custom-made shirts   \n",
       "37     Her photo has been shared on Facebook more than 77,000 times and made its way over to Twitter as well, where people who know nothing about the family except that they were all at a soccer game together have taken others to task for ignorant or deleterious comments   \n",
       "38          Her photo has been shared on Facebook more than 77,000 times and made its way over to Twitter as well, where people who know nothing about the family demur that they were all at a soccer game together have taken others to task for ignorant or hurtful comments   \n",
       "39                                                                                                                                                                                                                Do not denigrate what these parents are doing for their child   \n",
       "40                                                                                                                           Others also commented on Plaayer's photo, talking about their own childhoods with divorced parents who still worked together to elicit their child   \n",
       "41                                                                           Plaayer is the stepmother of the little girl in the photo, who is pictured in the middle with Plaayer and her husband (the girl's engender) on the left and her mother and stepfather on the right   \n",
       "42                                                                           Plaayer is the stepmother of the little girl in the photo, who is pictured in the middle with Plaayer and her husband (the girl's father) on the left and her engender and stepfather on the right   \n",
       "43                                                                                                     Welcome to Mothership: Parenting stories you actually want to read, whether you're thinking about or ephemeral on kids, from egg-freezing to taking home baby and beyond   \n",
       "44                                                                                                                                                                                Because motherhood is a magnanimous if — not when — and it's time we talked about it that way   \n",
       "45                                                                                                                                                                                         Two Dad's, two moms, 4 grandmas and a magnanimous ass support system,\" another wrote   \n",
       "46                                                                                                     Welcome to Mothership: Parenting stories you actually want to read, whether you're thinking about or transient on kids, from egg-freezing to taking home baby and beyond   \n",
       "47                                                                         Plaayer is the stepmother of the little girl in the photo, who is pictured in the middle with Plaayer and her husband (the girl's father) on the left and her mother and stepfather on the veracious   \n",
       "\n",
       "    sim_score            syn_pos_context    syn_pos  label  \\\n",
       "0    0.988222                       verb       verb      0   \n",
       "1    0.991943                       verb       verb      0   \n",
       "2    0.990420                       noun       verb      0   \n",
       "3    0.972239                       noun       verb      0   \n",
       "4    0.959698                       verb       verb      0   \n",
       "5    0.981328                       noun       verb      0   \n",
       "6    0.996289                  adjective  adjective      1   \n",
       "7    0.998385                       verb       verb      0   \n",
       "8    0.987273                       noun       verb      0   \n",
       "9    0.965925                       noun       verb      0   \n",
       "10   0.947458                       verb       verb      0   \n",
       "11   0.981601                       noun       verb      0   \n",
       "12   0.977983                     adverb  adjective      0   \n",
       "13   0.984540                     adverb  adjective      0   \n",
       "14   0.996519                       verb       verb      0   \n",
       "15   0.998243                       verb  adjective      0   \n",
       "16   0.983443                       noun       verb      0   \n",
       "17   0.885002                       noun       verb      0   \n",
       "18   0.966846                       verb       verb      0   \n",
       "19   0.974850                       noun       verb      0   \n",
       "20   0.994859                       noun       verb      0   \n",
       "21   0.991397                     adverb  adjective      0   \n",
       "22   0.993412                     adverb  adjective      0   \n",
       "23   0.922018                  adjective  adjective      0   \n",
       "24   0.997474                  adjective  adjective      0   \n",
       "25   0.939679                  adjective  adjective      0   \n",
       "26   0.997510                  adjective  adjective      0   \n",
       "27   0.986926                       noun  adjective      0   \n",
       "28   0.993337                       noun  adjective      0   \n",
       "29   0.996390                       noun  adjective      0   \n",
       "30   0.996727                       verb  adjective      0   \n",
       "31   0.979656                  adjective  adjective      0   \n",
       "32   0.992992                  adjective  adjective      0   \n",
       "33   0.952382                  adjective  adjective      1   \n",
       "34   0.996449                       verb       verb      0   \n",
       "35   0.982860                       verb       verb      0   \n",
       "36   0.994408                       verb       verb      0   \n",
       "37   0.998936                  adjective  adjective      1   \n",
       "38   0.991487  subordinating conjunction       verb      0   \n",
       "39   0.984220                       verb       verb      1   \n",
       "40   0.980964                       verb       verb      0   \n",
       "41   0.994449                       noun       verb      0   \n",
       "42   0.996376                       noun       verb      0   \n",
       "43   0.997091                       verb  adjective      0   \n",
       "44   0.835043                  adjective  adjective      0   \n",
       "45   0.909175                  adjective  adjective      0   \n",
       "46   0.998072                       verb  adjective      0   \n",
       "47   0.994747                       noun  adjective      0   \n",
       "\n",
       "                               lesk                         bert_wsd  \\\n",
       "0              Synset('check.v.18')      Synset('greathearted.s.01')   \n",
       "1              Synset('match.v.01')         Synset('patronize.v.04')   \n",
       "2           Synset('validate.v.03')          Synset('minimize.v.03')   \n",
       "3           Synset('validate.v.03')           Synset('confirm.v.01')   \n",
       "4        Synset('corroborate.v.03')  Synset('incontrovertible.s.01')   \n",
       "5        Synset('corroborate.v.03')  Synset('incontrovertible.s.01')   \n",
       "6           Synset('damaging.s.01')          Synset('damaging.s.01')   \n",
       "7            Synset('devolve.v.01')      Synset('greathearted.s.01')   \n",
       "8            Synset('sponsor.v.01')           Synset('confirm.v.01')   \n",
       "9          Synset('patronize.v.04')         Synset('patronize.v.04')   \n",
       "10           Synset('sponsor.v.01')            Synset('pamper.v.01')   \n",
       "11           Synset('sponsor.v.01')         Synset('patronize.v.04')   \n",
       "12            Synset('placid.s.01')         Synset('patronize.v.04')   \n",
       "13            Synset('placid.s.01')         Synset('equitable.a.01')   \n",
       "14             Synset('begin.v.08')            Synset('digest.v.03')   \n",
       "15         Synset('ephemeral.s.01')        Synset('discipline.v.01')   \n",
       "16            Synset('digest.v.03')              Synset('fall.v.21')   \n",
       "17             Synset('brook.n.01')       Synset('corroborate.v.03')   \n",
       "18             Synset('brook.n.01')           Synset('confirm.v.01')   \n",
       "19            Synset('digest.v.03')        Synset('mettlesome.s.01')   \n",
       "20            Synset('pamper.v.01')             Synset('start.v.11')   \n",
       "21         Synset('equitable.a.01')             Synset('check.v.10')   \n",
       "22         Synset('equitable.a.01')          Synset('fiddling.s.01')   \n",
       "23  Synset('incontrovertible.s.01')             Synset('educe.v.01')   \n",
       "24  Synset('incontrovertible.s.01')            Synset('digest.v.03')   \n",
       "25  Synset('incontrovertible.s.01')       Synset('precipitate.v.01')   \n",
       "26  Synset('incontrovertible.s.01')         Synset('ephemeral.s.01')   \n",
       "27        Synset('mettlesome.s.01')         Synset('ephemeral.s.01')   \n",
       "28        Synset('mettlesome.s.01')         Synset('ephemeral.s.01')   \n",
       "29        Synset('mettlesome.s.01')             Synset('beget.v.01')   \n",
       "30            Synset('casual.s.05')             Synset('beget.v.01')   \n",
       "31          Synset('fiddling.s.01')            Synset('digest.v.03')   \n",
       "32          Synset('fiddling.s.01')  Synset('incontrovertible.s.01')   \n",
       "33          Synset('fiddling.s.01')  Synset('incontrovertible.s.01')   \n",
       "34       Synset('precipitate.v.02')         Synset('veracious.s.01')   \n",
       "35         Synset('interpret.v.01')         Synset('interpret.v.01')   \n",
       "36         Synset('interpret.v.01')              Synset('game.s.02')   \n",
       "37       Synset('deleterious.s.01')            Synset('casual.s.05')   \n",
       "38             Synset('demur.n.01')          Synset('fiddling.s.01')   \n",
       "39          Synset('minimize.v.03')            Synset('digest.v.03')   \n",
       "40            Synset('elicit.v.03')            Synset('placid.s.01')   \n",
       "41          Synset('engender.v.01')            Synset('placid.s.01')   \n",
       "42          Synset('engender.v.01')         Synset('equitable.a.01')   \n",
       "43         Synset('ephemeron.n.01')             Synset('demur.v.01')   \n",
       "44      Synset('greathearted.s.01')         Synset('interpret.v.01')   \n",
       "45      Synset('greathearted.s.01')        Synset('mettlesome.s.01')   \n",
       "46         Synset('transient.n.02')          Synset('fiddling.s.01')   \n",
       "47         Synset('veracious.s.01')       Synset('deleterious.s.01')   \n",
       "\n",
       "                             synset  pos_score  lesk_score  bert_wsd_score  \\\n",
       "0                Synset('see.v.10')          1           0               0   \n",
       "1                Synset('see.v.10')          1           0               0   \n",
       "2            Synset('confirm.v.01')          0           0               0   \n",
       "3            Synset('confirm.v.01')          0           0               1   \n",
       "4            Synset('confirm.v.01')          1           0               0   \n",
       "5            Synset('confirm.v.01')          0           0               0   \n",
       "6           Synset('damaging.s.01')          1           1               1   \n",
       "7               Synset('fall.v.21')          1           0               0   \n",
       "8          Synset('patronize.v.04')          0           0               0   \n",
       "9          Synset('patronize.v.04')          0           1               1   \n",
       "10         Synset('patronize.v.04')          1           0               0   \n",
       "11         Synset('patronize.v.04')          0           0               1   \n",
       "12            Synset('placid.s.01')          0           1               0   \n",
       "13            Synset('placid.s.01')          0           1               0   \n",
       "14             Synset('start.v.09')          1           0               0   \n",
       "15         Synset('ephemeral.s.01')          0           1               0   \n",
       "16            Synset('digest.v.03')          0           1               0   \n",
       "17            Synset('digest.v.03')          0           0               0   \n",
       "18            Synset('digest.v.03')          1           0               0   \n",
       "19            Synset('digest.v.03')          0           1               0   \n",
       "20            Synset('pamper.v.01')          0           1               0   \n",
       "21         Synset('equitable.a.01')          0           1               0   \n",
       "22         Synset('equitable.a.01')          0           1               0   \n",
       "23  Synset('incontrovertible.s.01')          1           1               0   \n",
       "24  Synset('incontrovertible.s.01')          1           1               0   \n",
       "25  Synset('incontrovertible.s.01')          1           1               0   \n",
       "26  Synset('incontrovertible.s.01')          1           1               0   \n",
       "27              Synset('game.s.02')          0           0               0   \n",
       "28              Synset('game.s.02')          0           0               0   \n",
       "29              Synset('game.s.02')          0           0               0   \n",
       "30            Synset('casual.s.05')          0           1               0   \n",
       "31          Synset('fiddling.s.01')          1           1               0   \n",
       "32          Synset('fiddling.s.01')          1           1               0   \n",
       "33          Synset('fiddling.s.01')          1           1               0   \n",
       "34       Synset('precipitate.v.03')          1           0               0   \n",
       "35         Synset('interpret.v.01')          1           1               1   \n",
       "36         Synset('interpret.v.01')          1           1               0   \n",
       "37       Synset('deleterious.s.01')          1           1               0   \n",
       "38             Synset('demur.v.01')          0           0               0   \n",
       "39          Synset('minimize.v.03')          1           1               0   \n",
       "40            Synset('arouse.v.01')          1           0               0   \n",
       "41             Synset('beget.v.01')          0           0               0   \n",
       "42             Synset('beget.v.01')          0           0               0   \n",
       "43         Synset('ephemeral.s.01')          0           0               0   \n",
       "44               Synset('big.s.11')          1           0               0   \n",
       "45               Synset('big.s.11')          1           0               0   \n",
       "46         Synset('ephemeral.s.01')          0           0               0   \n",
       "47         Synset('veracious.s.02')          0           0               0   \n",
       "\n",
       "    pos_lesk_score  pos_bert_score  pos_bert_lesk_score  base  \n",
       "0                0               0                    0     1  \n",
       "1                0               0                    0     1  \n",
       "2                0               0                    0     1  \n",
       "3                0               0                    0     1  \n",
       "4                0               0                    0     1  \n",
       "5                0               0                    0     1  \n",
       "6                1               1                    1     1  \n",
       "7                0               0                    0     1  \n",
       "8                0               0                    0     1  \n",
       "9                0               0                    0     1  \n",
       "10               0               0                    0     1  \n",
       "11               0               0                    0     1  \n",
       "12               0               0                    0     1  \n",
       "13               0               0                    0     1  \n",
       "14               0               0                    0     1  \n",
       "15               0               0                    0     1  \n",
       "16               0               0                    0     1  \n",
       "17               0               0                    0     1  \n",
       "18               0               0                    0     1  \n",
       "19               0               0                    0     1  \n",
       "20               0               0                    0     1  \n",
       "21               0               0                    0     1  \n",
       "22               0               0                    0     1  \n",
       "23               1               0                    0     1  \n",
       "24               1               0                    0     1  \n",
       "25               1               0                    0     1  \n",
       "26               1               0                    0     1  \n",
       "27               0               0                    0     1  \n",
       "28               0               0                    0     1  \n",
       "29               0               0                    0     1  \n",
       "30               0               0                    0     1  \n",
       "31               1               0                    0     1  \n",
       "32               1               0                    0     1  \n",
       "33               1               0                    0     1  \n",
       "34               0               0                    0     1  \n",
       "35               1               1                    1     1  \n",
       "36               1               0                    0     1  \n",
       "37               1               0                    0     1  \n",
       "38               0               0                    0     1  \n",
       "39               1               0                    0     1  \n",
       "40               0               0                    0     1  \n",
       "41               0               0                    0     1  \n",
       "42               0               0                    0     1  \n",
       "43               0               0                    0     1  \n",
       "44               0               0                    0     1  \n",
       "45               0               0                    0     1  \n",
       "46               0               0                    0     1  \n",
       "47               0               0                    0     1  "
      ],
      "text/html": "<div>\n<style scoped>\n    .dataframe tbody tr th:only-of-type {\n        vertical-align: middle;\n    }\n\n    .dataframe tbody tr th {\n        vertical-align: top;\n    }\n\n    .dataframe thead th {\n        text-align: right;\n    }\n</style>\n<table border=\"1\" class=\"dataframe\">\n  <thead>\n    <tr style=\"text-align: right;\">\n      <th></th>\n      <th>word</th>\n      <th>syn</th>\n      <th>orig_text</th>\n      <th>mod_text</th>\n      <th>sim_score</th>\n      <th>syn_pos_context</th>\n      <th>syn_pos</th>\n      <th>label</th>\n      <th>lesk</th>\n      <th>bert_wsd</th>\n      <th>synset</th>\n      <th>pos_score</th>\n      <th>lesk_score</th>\n      <th>bert_wsd_score</th>\n      <th>pos_lesk_score</th>\n      <th>pos_bert_score</th>\n      <th>pos_bert_lesk_score</th>\n      <th>base</th>\n    </tr>\n  </thead>\n  <tbody>\n    <tr>\n      <th>0</th>\n      <td>check</td>\n      <td>see</td>\n      <td>Yet, although we see all kinds of families on television now, it seems like some people still take their idea of what a \"real\" family looks like from the 1950s sitcoms</td>\n      <td>Yet, although we check all kinds of families on television now, it seems like some people still take their idea of what a \"real\" family looks like from the 1950s sitcoms</td>\n      <td>0.988222</td>\n      <td>verb</td>\n      <td>verb</td>\n      <td>0</td>\n      <td>Synset('check.v.18')</td>\n      <td>Synset('greathearted.s.01')</td>\n      <td>Synset('see.v.10')</td>\n      <td>1</td>\n      <td>0</td>\n      <td>0</td>\n      <td>0</td>\n      <td>0</td>\n      <td>0</td>\n      <td>1</td>\n    </tr>\n    <tr>\n      <th>1</th>\n      <td>check</td>\n      <td>see</td>\n      <td>\" No matter how the negative versus positive comments weigh, we're happy to see that this little girl has so many people in her corner, and that her parents and their new spouses are friendly enough to show up to her soccer game wearing custom-made shirts</td>\n      <td>\" No matter how the negative versus positive comments weigh, we're happy to check that this little girl has so many people in her corner, and that her parents and their new spouses are friendly enough to show up to her soccer game wearing custom-made shirts</td>\n      <td>0.991943</td>\n      <td>verb</td>\n      <td>verb</td>\n      <td>0</td>\n      <td>Synset('match.v.01')</td>\n      <td>Synset('patronize.v.04')</td>\n      <td>Synset('see.v.10')</td>\n      <td>1</td>\n      <td>0</td>\n      <td>0</td>\n      <td>0</td>\n      <td>0</td>\n      <td>0</td>\n      <td>1</td>\n    </tr>\n    <tr>\n      <th>2</th>\n      <td>corroborate</td>\n      <td>support</td>\n      <td>But, thankfully, the positive responses and support for Plaayer's family seems to outweigh the bad</td>\n      <td>But, thankfully, the positive responses and corroborate for Plaayer's family seems to outweigh the bad</td>\n      <td>0.990420</td>\n      <td>noun</td>\n      <td>verb</td>\n      <td>0</td>\n      <td>Synset('validate.v.03')</td>\n      <td>Synset('minimize.v.03')</td>\n      <td>Synset('confirm.v.01')</td>\n      <td>0</td>\n      <td>0</td>\n      <td>0</td>\n      <td>0</td>\n      <td>0</td>\n      <td>0</td>\n      <td>1</td>\n    </tr>\n    <tr>\n      <th>3</th>\n      <td>corroborate</td>\n      <td>support</td>\n      <td>Two Dad's, two moms, 4 grandmas and a big ass support system,\" another wrote</td>\n      <td>Two Dad's, two moms, 4 grandmas and a big ass corroborate system,\" another wrote</td>\n      <td>0.972239</td>\n      <td>noun</td>\n      <td>verb</td>\n      <td>0</td>\n      <td>Synset('validate.v.03')</td>\n      <td>Synset('confirm.v.01')</td>\n      <td>Synset('confirm.v.01')</td>\n      <td>0</td>\n      <td>0</td>\n      <td>1</td>\n      <td>0</td>\n      <td>0</td>\n      <td>0</td>\n      <td>1</td>\n    </tr>\n    <tr>\n      <th>4</th>\n      <td>corroborate</td>\n      <td>support</td>\n      <td>Then, instead of being 'petty' as you are all claiming it is, they constantly worked together to support us and make us happy</td>\n      <td>Then, instead of being 'petty' as you are all claiming it is, they constantly worked together to corroborate us and make us happy</td>\n      <td>0.959698</td>\n      <td>verb</td>\n      <td>verb</td>\n      <td>0</td>\n      <td>Synset('corroborate.v.03')</td>\n      <td>Synset('incontrovertible.s.01')</td>\n      <td>Synset('confirm.v.01')</td>\n      <td>1</td>\n      <td>0</td>\n      <td>0</td>\n      <td>0</td>\n      <td>0</td>\n      <td>0</td>\n      <td>1</td>\n    </tr>\n    <tr>\n      <th>5</th>\n      <td>corroborate</td>\n      <td>support</td>\n      <td>I have an amazing support system of four people's families that treat me like their own and four parents whom I can go to with anything</td>\n      <td>I have an amazing corroborate system of four people's families that treat me like their own and four parents whom I can go to with anything</td>\n      <td>0.981328</td>\n      <td>noun</td>\n      <td>verb</td>\n      <td>0</td>\n      <td>Synset('corroborate.v.03')</td>\n      <td>Synset('incontrovertible.s.01')</td>\n      <td>Synset('confirm.v.01')</td>\n      <td>0</td>\n      <td>0</td>\n      <td>0</td>\n      <td>0</td>\n      <td>0</td>\n      <td>0</td>\n      <td>1</td>\n    </tr>\n    <tr>\n      <th>6</th>\n      <td>detrimental</td>\n      <td>damaging</td>\n      <td>Some people attacked her message, saying that having a child spend time with both sets of parents is confusing and damaging, and that if the parents really wanted to spend time together, they should have stayed together</td>\n      <td>Some people attacked her message, saying that having a child spend time with both sets of parents is confusing and detrimental, and that if the parents really wanted to spend time together, they should have stayed together</td>\n      <td>0.996289</td>\n      <td>adjective</td>\n      <td>adjective</td>\n      <td>1</td>\n      <td>Synset('damaging.s.01')</td>\n      <td>Synset('damaging.s.01')</td>\n      <td>Synset('damaging.s.01')</td>\n      <td>1</td>\n      <td>1</td>\n      <td>1</td>\n      <td>1</td>\n      <td>1</td>\n      <td>1</td>\n      <td>1</td>\n    </tr>\n    <tr>\n      <th>7</th>\n      <td>devolve</td>\n      <td>fall</td>\n      <td>\"Because of us, I will never believe co-parenting can't work! I KNOW through experience it CAN WORK! Choose to do what's best for your child and everything will just fall into place,\" Plaayer wrote when she posted the photo to both Instagram and Facebook</td>\n      <td>\"Because of us, I will never believe co-parenting can't work! I KNOW through experience it CAN WORK! Choose to do what's best for your child and everything will just devolve into place,\" Plaayer wrote when she posted the photo to both Instagram and Facebook</td>\n      <td>0.998385</td>\n      <td>verb</td>\n      <td>verb</td>\n      <td>0</td>\n      <td>Synset('devolve.v.01')</td>\n      <td>Synset('greathearted.s.01')</td>\n      <td>Synset('fall.v.21')</td>\n      <td>1</td>\n      <td>0</td>\n      <td>0</td>\n      <td>0</td>\n      <td>0</td>\n      <td>0</td>\n      <td>1</td>\n    </tr>\n    <tr>\n      <th>8</th>\n      <td>patronize</td>\n      <td>support</td>\n      <td>But, thankfully, the positive responses and support for Plaayer's family seems to outweigh the bad</td>\n      <td>But, thankfully, the positive responses and patronize for Plaayer's family seems to outweigh the bad</td>\n      <td>0.987273</td>\n      <td>noun</td>\n      <td>verb</td>\n      <td>0</td>\n      <td>Synset('sponsor.v.01')</td>\n      <td>Synset('confirm.v.01')</td>\n      <td>Synset('patronize.v.04')</td>\n      <td>0</td>\n      <td>0</td>\n      <td>0</td>\n      <td>0</td>\n      <td>0</td>\n      <td>0</td>\n      <td>1</td>\n    </tr>\n    <tr>\n      <th>9</th>\n      <td>patronize</td>\n      <td>support</td>\n      <td>Two Dad's, two moms, 4 grandmas and a big ass support system,\" another wrote</td>\n      <td>Two Dad's, two moms, 4 grandmas and a big ass patronize system,\" another wrote</td>\n      <td>0.965925</td>\n      <td>noun</td>\n      <td>verb</td>\n      <td>0</td>\n      <td>Synset('patronize.v.04')</td>\n      <td>Synset('patronize.v.04')</td>\n      <td>Synset('patronize.v.04')</td>\n      <td>0</td>\n      <td>1</td>\n      <td>1</td>\n      <td>0</td>\n      <td>0</td>\n      <td>0</td>\n      <td>1</td>\n    </tr>\n    <tr>\n      <th>10</th>\n      <td>patronize</td>\n      <td>support</td>\n      <td>Then, instead of being 'petty' as you are all claiming it is, they constantly worked together to support us and make us happy</td>\n      <td>Then, instead of being 'petty' as you are all claiming it is, they constantly worked together to patronize us and make us happy</td>\n      <td>0.947458</td>\n      <td>verb</td>\n      <td>verb</td>\n      <td>0</td>\n      <td>Synset('sponsor.v.01')</td>\n      <td>Synset('pamper.v.01')</td>\n      <td>Synset('patronize.v.04')</td>\n      <td>1</td>\n      <td>0</td>\n      <td>0</td>\n      <td>0</td>\n      <td>0</td>\n      <td>0</td>\n      <td>1</td>\n    </tr>\n    <tr>\n      <th>11</th>\n      <td>patronize</td>\n      <td>support</td>\n      <td>I have an amazing support system of four people's families that treat me like their own and four parents whom I can go to with anything</td>\n      <td>I have an amazing patronize system of four people's families that treat me like their own and four parents whom I can go to with anything</td>\n      <td>0.981601</td>\n      <td>noun</td>\n      <td>verb</td>\n      <td>0</td>\n      <td>Synset('sponsor.v.01')</td>\n      <td>Synset('patronize.v.04')</td>\n      <td>Synset('patronize.v.04')</td>\n      <td>0</td>\n      <td>0</td>\n      <td>1</td>\n      <td>0</td>\n      <td>0</td>\n      <td>0</td>\n      <td>1</td>\n    </tr>\n    <tr>\n      <th>12</th>\n      <td>placid</td>\n      <td>still</td>\n      <td>Yet, although we see all kinds of families on television now, it seems like some people still take their idea of what a \"real\" family looks like from the 1950s sitcoms</td>\n      <td>Yet, although we see all kinds of families on television now, it seems like some people placid take their idea of what a \"real\" family looks like from the 1950s sitcoms</td>\n      <td>0.977983</td>\n      <td>adverb</td>\n      <td>adjective</td>\n      <td>0</td>\n      <td>Synset('placid.s.01')</td>\n      <td>Synset('patronize.v.04')</td>\n      <td>Synset('placid.s.01')</td>\n      <td>0</td>\n      <td>1</td>\n      <td>0</td>\n      <td>0</td>\n      <td>0</td>\n      <td>0</td>\n      <td>1</td>\n    </tr>\n    <tr>\n      <th>13</th>\n      <td>placid</td>\n      <td>still</td>\n      <td>Others also commented on Plaayer's photo, talking about their own childhoods with divorced parents who still worked together to raise their child</td>\n      <td>Others also commented on Plaayer's photo, talking about their own childhoods with divorced parents who placid worked together to raise their child</td>\n      <td>0.984540</td>\n      <td>adverb</td>\n      <td>adjective</td>\n      <td>0</td>\n      <td>Synset('placid.s.01')</td>\n      <td>Synset('equitable.a.01')</td>\n      <td>Synset('placid.s.01')</td>\n      <td>0</td>\n      <td>1</td>\n      <td>0</td>\n      <td>0</td>\n      <td>0</td>\n      <td>0</td>\n      <td>1</td>\n    </tr>\n    <tr>\n      <th>14</th>\n      <td>start</td>\n      <td>go</td>\n      <td>I have an amazing support system of four people's families that treat me like their own and four parents whom I can go to with anything</td>\n      <td>I have an amazing support system of four people's families that treat me like their own and four parents whom I can start to with anything</td>\n      <td>0.996519</td>\n      <td>verb</td>\n      <td>verb</td>\n      <td>0</td>\n      <td>Synset('begin.v.08')</td>\n      <td>Synset('digest.v.03')</td>\n      <td>Synset('start.v.09')</td>\n      <td>1</td>\n      <td>0</td>\n      <td>0</td>\n      <td>0</td>\n      <td>0</td>\n      <td>0</td>\n      <td>1</td>\n    </tr>\n    <tr>\n      <th>15</th>\n      <td>transitory</td>\n      <td>passing</td>\n      <td>Welcome to Mothership: Parenting stories you actually want to read, whether you're thinking about or passing on kids, from egg-freezing to taking home baby and beyond</td>\n      <td>Welcome to Mothership: Parenting stories you actually want to read, whether you're thinking about or transitory on kids, from egg-freezing to taking home baby and beyond</td>\n      <td>0.998243</td>\n      <td>verb</td>\n      <td>adjective</td>\n      <td>0</td>\n      <td>Synset('ephemeral.s.01')</td>\n      <td>Synset('discipline.v.01')</td>\n      <td>Synset('ephemeral.s.01')</td>\n      <td>0</td>\n      <td>1</td>\n      <td>0</td>\n      <td>0</td>\n      <td>0</td>\n      <td>0</td>\n      <td>1</td>\n    </tr>\n    <tr>\n      <th>16</th>\n      <td>brook</td>\n      <td>support</td>\n      <td>But, thankfully, the positive responses and support for Plaayer's family seems to outweigh the bad</td>\n      <td>But, thankfully, the positive responses and brook for Plaayer's family seems to outweigh the bad</td>\n      <td>0.983443</td>\n      <td>noun</td>\n      <td>verb</td>\n      <td>0</td>\n      <td>Synset('digest.v.03')</td>\n      <td>Synset('fall.v.21')</td>\n      <td>Synset('digest.v.03')</td>\n      <td>0</td>\n      <td>1</td>\n      <td>0</td>\n      <td>0</td>\n      <td>0</td>\n      <td>0</td>\n      <td>1</td>\n    </tr>\n    <tr>\n      <th>17</th>\n      <td>brook</td>\n      <td>support</td>\n      <td>Two Dad's, two moms, 4 grandmas and a big ass support system,\" another wrote</td>\n      <td>Two Dad's, two moms, 4 grandmas and a big ass brook system,\" another wrote</td>\n      <td>0.885002</td>\n      <td>noun</td>\n      <td>verb</td>\n      <td>0</td>\n      <td>Synset('brook.n.01')</td>\n      <td>Synset('corroborate.v.03')</td>\n      <td>Synset('digest.v.03')</td>\n      <td>0</td>\n      <td>0</td>\n      <td>0</td>\n      <td>0</td>\n      <td>0</td>\n      <td>0</td>\n      <td>1</td>\n    </tr>\n    <tr>\n      <th>18</th>\n      <td>brook</td>\n      <td>support</td>\n      <td>Then, instead of being 'petty' as you are all claiming it is, they constantly worked together to support us and make us happy</td>\n      <td>Then, instead of being 'petty' as you are all claiming it is, they constantly worked together to brook us and make us happy</td>\n      <td>0.966846</td>\n      <td>verb</td>\n      <td>verb</td>\n      <td>0</td>\n      <td>Synset('brook.n.01')</td>\n      <td>Synset('confirm.v.01')</td>\n      <td>Synset('digest.v.03')</td>\n      <td>1</td>\n      <td>0</td>\n      <td>0</td>\n      <td>0</td>\n      <td>0</td>\n      <td>0</td>\n      <td>1</td>\n    </tr>\n    <tr>\n      <th>19</th>\n      <td>brook</td>\n      <td>support</td>\n      <td>I have an amazing support system of four people's families that treat me like their own and four parents whom I can go to with anything</td>\n      <td>I have an amazing brook system of four people's families that treat me like their own and four parents whom I can go to with anything</td>\n      <td>0.974850</td>\n      <td>noun</td>\n      <td>verb</td>\n      <td>0</td>\n      <td>Synset('digest.v.03')</td>\n      <td>Synset('mettlesome.s.01')</td>\n      <td>Synset('digest.v.03')</td>\n      <td>0</td>\n      <td>1</td>\n      <td>0</td>\n      <td>0</td>\n      <td>0</td>\n      <td>0</td>\n      <td>1</td>\n    </tr>\n    <tr>\n      <th>20</th>\n      <td>cosseted</td>\n      <td>baby</td>\n      <td>Welcome to Mothership: Parenting stories you actually want to read, whether you're thinking about or passing on kids, from egg-freezing to taking home baby and beyond</td>\n      <td>Welcome to Mothership: Parenting stories you actually want to read, whether you're thinking about or passing on kids, from egg-freezing to taking home cosseted and beyond</td>\n      <td>0.994859</td>\n      <td>noun</td>\n      <td>verb</td>\n      <td>0</td>\n      <td>Synset('pamper.v.01')</td>\n      <td>Synset('start.v.11')</td>\n      <td>Synset('pamper.v.01')</td>\n      <td>0</td>\n      <td>1</td>\n      <td>0</td>\n      <td>0</td>\n      <td>0</td>\n      <td>0</td>\n      <td>1</td>\n    </tr>\n    <tr>\n      <th>21</th>\n      <td>equitable</td>\n      <td>just</td>\n      <td>So, when Emilee Plaayer posted a photo of her family at a soccer game, some people just couldn't handle it</td>\n      <td>So, when Emilee Plaayer posted a photo of her family at a soccer game, some people equitable couldn't handle it</td>\n      <td>0.991397</td>\n      <td>adverb</td>\n      <td>adjective</td>\n      <td>0</td>\n      <td>Synset('equitable.a.01')</td>\n      <td>Synset('check.v.10')</td>\n      <td>Synset('equitable.a.01')</td>\n      <td>0</td>\n      <td>1</td>\n      <td>0</td>\n      <td>0</td>\n      <td>0</td>\n      <td>0</td>\n      <td>1</td>\n    </tr>\n    <tr>\n      <th>22</th>\n      <td>equitable</td>\n      <td>just</td>\n      <td>\"Because of us, I will never believe co-parenting can't work! I KNOW through experience it CAN WORK! Choose to do what's best for your child and everything will just fall into place,\" Plaayer wrote when she posted the photo to both Instagram and Facebook</td>\n      <td>\"Because of us, I will never believe co-parenting can't work! I KNOW through experience it CAN WORK! Choose to do what's best for your child and everything will equitable fall into place,\" Plaayer wrote when she posted the photo to both Instagram and Facebook</td>\n      <td>0.993412</td>\n      <td>adverb</td>\n      <td>adjective</td>\n      <td>0</td>\n      <td>Synset('equitable.a.01')</td>\n      <td>Synset('fiddling.s.01')</td>\n      <td>Synset('equitable.a.01')</td>\n      <td>0</td>\n      <td>1</td>\n      <td>0</td>\n      <td>0</td>\n      <td>0</td>\n      <td>0</td>\n      <td>1</td>\n    </tr>\n    <tr>\n      <th>23</th>\n      <td>incontrovertible</td>\n      <td>positive</td>\n      <td>But, thankfully, the positive responses and support for Plaayer's family seems to outweigh the bad</td>\n      <td>But, thankfully, the incontrovertible responses and support for Plaayer's family seems to outweigh the bad</td>\n      <td>0.922018</td>\n      <td>adjective</td>\n      <td>adjective</td>\n      <td>0</td>\n      <td>Synset('incontrovertible.s.01')</td>\n      <td>Synset('educe.v.01')</td>\n      <td>Synset('incontrovertible.s.01')</td>\n      <td>1</td>\n      <td>1</td>\n      <td>0</td>\n      <td>1</td>\n      <td>0</td>\n      <td>0</td>\n      <td>1</td>\n    </tr>\n    <tr>\n      <th>24</th>\n      <td>incontrovertible</td>\n      <td>positive</td>\n      <td>\" No matter how the negative versus positive comments weigh, we're happy to see that this little girl has so many people in her corner, and that her parents and their new spouses are friendly enough to show up to her soccer game wearing custom-made shirts</td>\n      <td>\" No matter how the negative versus incontrovertible comments weigh, we're happy to see that this little girl has so many people in her corner, and that her parents and their new spouses are friendly enough to show up to her soccer game wearing custom-made shirts</td>\n      <td>0.997474</td>\n      <td>adjective</td>\n      <td>adjective</td>\n      <td>0</td>\n      <td>Synset('incontrovertible.s.01')</td>\n      <td>Synset('digest.v.03')</td>\n      <td>Synset('incontrovertible.s.01')</td>\n      <td>1</td>\n      <td>1</td>\n      <td>0</td>\n      <td>1</td>\n      <td>0</td>\n      <td>0</td>\n      <td>1</td>\n    </tr>\n    <tr>\n      <th>25</th>\n      <td>irrefutable</td>\n      <td>positive</td>\n      <td>But, thankfully, the positive responses and support for Plaayer's family seems to outweigh the bad</td>\n      <td>But, thankfully, the irrefutable responses and support for Plaayer's family seems to outweigh the bad</td>\n      <td>0.939679</td>\n      <td>adjective</td>\n      <td>adjective</td>\n      <td>0</td>\n      <td>Synset('incontrovertible.s.01')</td>\n      <td>Synset('precipitate.v.01')</td>\n      <td>Synset('incontrovertible.s.01')</td>\n      <td>1</td>\n      <td>1</td>\n      <td>0</td>\n      <td>1</td>\n      <td>0</td>\n      <td>0</td>\n      <td>1</td>\n    </tr>\n    <tr>\n      <th>26</th>\n      <td>irrefutable</td>\n      <td>positive</td>\n      <td>\" No matter how the negative versus positive comments weigh, we're happy to see that this little girl has so many people in her corner, and that her parents and their new spouses are friendly enough to show up to her soccer game wearing custom-made shirts</td>\n      <td>\" No matter how the negative versus irrefutable comments weigh, we're happy to see that this little girl has so many people in her corner, and that her parents and their new spouses are friendly enough to show up to her soccer game wearing custom-made shirts</td>\n      <td>0.997510</td>\n      <td>adjective</td>\n      <td>adjective</td>\n      <td>0</td>\n      <td>Synset('incontrovertible.s.01')</td>\n      <td>Synset('ephemeral.s.01')</td>\n      <td>Synset('incontrovertible.s.01')</td>\n      <td>1</td>\n      <td>1</td>\n      <td>0</td>\n      <td>1</td>\n      <td>0</td>\n      <td>0</td>\n      <td>1</td>\n    </tr>\n    <tr>\n      <th>27</th>\n      <td>mettlesome</td>\n      <td>game</td>\n      <td>So, when Emilee Plaayer posted a photo of her family at a soccer game, some people just couldn't handle it</td>\n      <td>So, when Emilee Plaayer posted a photo of her family at a soccer mettlesome, some people just couldn't handle it</td>\n      <td>0.986926</td>\n      <td>noun</td>\n      <td>adjective</td>\n      <td>0</td>\n      <td>Synset('mettlesome.s.01')</td>\n      <td>Synset('ephemeral.s.01')</td>\n      <td>Synset('game.s.02')</td>\n      <td>0</td>\n      <td>0</td>\n      <td>0</td>\n      <td>0</td>\n      <td>0</td>\n      <td>0</td>\n      <td>1</td>\n    </tr>\n    <tr>\n      <th>28</th>\n      <td>mettlesome</td>\n      <td>game</td>\n      <td>Her photo has been shared on Facebook more than 77,000 times and made its way over to Twitter as well, where people who know nothing about the family except that they were all at a soccer game together have taken others to task for ignorant or hurtful comments</td>\n      <td>Her photo has been shared on Facebook more than 77,000 times and made its way over to Twitter as well, where people who know nothing about the family except that they were all at a soccer mettlesome together have taken others to task for ignorant or hurtful comments</td>\n      <td>0.993337</td>\n      <td>noun</td>\n      <td>adjective</td>\n      <td>0</td>\n      <td>Synset('mettlesome.s.01')</td>\n      <td>Synset('ephemeral.s.01')</td>\n      <td>Synset('game.s.02')</td>\n      <td>0</td>\n      <td>0</td>\n      <td>0</td>\n      <td>0</td>\n      <td>0</td>\n      <td>0</td>\n      <td>1</td>\n    </tr>\n    <tr>\n      <th>29</th>\n      <td>mettlesome</td>\n      <td>game</td>\n      <td>\" No matter how the negative versus positive comments weigh, we're happy to see that this little girl has so many people in her corner, and that her parents and their new spouses are friendly enough to show up to her soccer game wearing custom-made shirts</td>\n      <td>\" No matter how the negative versus positive comments weigh, we're happy to see that this little girl has so many people in her corner, and that her parents and their new spouses are friendly enough to show up to her soccer mettlesome wearing custom-made shirts</td>\n      <td>0.996390</td>\n      <td>noun</td>\n      <td>adjective</td>\n      <td>0</td>\n      <td>Synset('mettlesome.s.01')</td>\n      <td>Synset('beget.v.01')</td>\n      <td>Synset('game.s.02')</td>\n      <td>0</td>\n      <td>0</td>\n      <td>0</td>\n      <td>0</td>\n      <td>0</td>\n      <td>0</td>\n      <td>1</td>\n    </tr>\n    <tr>\n      <th>30</th>\n      <td>perfunctory</td>\n      <td>passing</td>\n      <td>Welcome to Mothership: Parenting stories you actually want to read, whether you're thinking about or passing on kids, from egg-freezing to taking home baby and beyond</td>\n      <td>Welcome to Mothership: Parenting stories you actually want to read, whether you're thinking about or perfunctory on kids, from egg-freezing to taking home baby and beyond</td>\n      <td>0.996727</td>\n      <td>verb</td>\n      <td>adjective</td>\n      <td>0</td>\n      <td>Synset('casual.s.05')</td>\n      <td>Synset('beget.v.01')</td>\n      <td>Synset('casual.s.05')</td>\n      <td>0</td>\n      <td>1</td>\n      <td>0</td>\n      <td>0</td>\n      <td>0</td>\n      <td>0</td>\n      <td>1</td>\n    </tr>\n    <tr>\n      <th>31</th>\n      <td>picayune</td>\n      <td>little</td>\n      <td>Plaayer is the stepmother of the little girl in the photo, who is pictured in the middle with Plaayer and her husband (the girl's father) on the left and her mother and stepfather on the right</td>\n      <td>Plaayer is the stepmother of the picayune girl in the photo, who is pictured in the middle with Plaayer and her husband (the girl's father) on the left and her mother and stepfather on the right</td>\n      <td>0.979656</td>\n      <td>adjective</td>\n      <td>adjective</td>\n      <td>0</td>\n      <td>Synset('fiddling.s.01')</td>\n      <td>Synset('digest.v.03')</td>\n      <td>Synset('fiddling.s.01')</td>\n      <td>1</td>\n      <td>1</td>\n      <td>0</td>\n      <td>1</td>\n      <td>0</td>\n      <td>0</td>\n      <td>1</td>\n    </tr>\n    <tr>\n      <th>32</th>\n      <td>picayune</td>\n      <td>little</td>\n      <td>\" No matter how the negative versus positive comments weigh, we're happy to see that this little girl has so many people in her corner, and that her parents and their new spouses are friendly enough to show up to her soccer game wearing custom-made shirts</td>\n      <td>\" No matter how the negative versus positive comments weigh, we're happy to see that this picayune girl has so many people in her corner, and that her parents and their new spouses are friendly enough to show up to her soccer game wearing custom-made shirts</td>\n      <td>0.992992</td>\n      <td>adjective</td>\n      <td>adjective</td>\n      <td>0</td>\n      <td>Synset('fiddling.s.01')</td>\n      <td>Synset('incontrovertible.s.01')</td>\n      <td>Synset('fiddling.s.01')</td>\n      <td>1</td>\n      <td>1</td>\n      <td>0</td>\n      <td>1</td>\n      <td>0</td>\n      <td>0</td>\n      <td>1</td>\n    </tr>\n    <tr>\n      <th>33</th>\n      <td>picayune</td>\n      <td>petty</td>\n      <td>Then, instead of being 'petty' as you are all claiming it is, they constantly worked together to support us and make us happy</td>\n      <td>Then, instead of being 'picayune' as you are all claiming it is, they constantly worked together to support us and make us happy</td>\n      <td>0.952382</td>\n      <td>adjective</td>\n      <td>adjective</td>\n      <td>1</td>\n      <td>Synset('fiddling.s.01')</td>\n      <td>Synset('incontrovertible.s.01')</td>\n      <td>Synset('fiddling.s.01')</td>\n      <td>1</td>\n      <td>1</td>\n      <td>0</td>\n      <td>1</td>\n      <td>0</td>\n      <td>0</td>\n      <td>1</td>\n    </tr>\n    <tr>\n      <th>34</th>\n      <td>precipitate</td>\n      <td>fall</td>\n      <td>\"Because of us, I will never believe co-parenting can't work! I KNOW through experience it CAN WORK! Choose to do what's best for your child and everything will just fall into place,\" Plaayer wrote when she posted the photo to both Instagram and Facebook</td>\n      <td>\"Because of us, I will never believe co-parenting can't work! I KNOW through experience it CAN WORK! Choose to do what's best for your child and everything will just precipitate into place,\" Plaayer wrote when she posted the photo to both Instagram and Facebook</td>\n      <td>0.996449</td>\n      <td>verb</td>\n      <td>verb</td>\n      <td>0</td>\n      <td>Synset('precipitate.v.02')</td>\n      <td>Synset('veracious.s.01')</td>\n      <td>Synset('precipitate.v.03')</td>\n      <td>1</td>\n      <td>0</td>\n      <td>0</td>\n      <td>0</td>\n      <td>0</td>\n      <td>0</td>\n      <td>1</td>\n    </tr>\n    <tr>\n      <th>35</th>\n      <td>construe</td>\n      <td>see</td>\n      <td>Yet, although we see all kinds of families on television now, it seems like some people still take their idea of what a \"real\" family looks like from the 1950s sitcoms</td>\n      <td>Yet, although we construe all kinds of families on television now, it seems like some people still take their idea of what a \"real\" family looks like from the 1950s sitcoms</td>\n      <td>0.982860</td>\n      <td>verb</td>\n      <td>verb</td>\n      <td>0</td>\n      <td>Synset('interpret.v.01')</td>\n      <td>Synset('interpret.v.01')</td>\n      <td>Synset('interpret.v.01')</td>\n      <td>1</td>\n      <td>1</td>\n      <td>1</td>\n      <td>1</td>\n      <td>1</td>\n      <td>1</td>\n      <td>1</td>\n    </tr>\n    <tr>\n      <th>36</th>\n      <td>construe</td>\n      <td>see</td>\n      <td>\" No matter how the negative versus positive comments weigh, we're happy to see that this little girl has so many people in her corner, and that her parents and their new spouses are friendly enough to show up to her soccer game wearing custom-made shirts</td>\n      <td>\" No matter how the negative versus positive comments weigh, we're happy to construe that this little girl has so many people in her corner, and that her parents and their new spouses are friendly enough to show up to her soccer game wearing custom-made shirts</td>\n      <td>0.994408</td>\n      <td>verb</td>\n      <td>verb</td>\n      <td>0</td>\n      <td>Synset('interpret.v.01')</td>\n      <td>Synset('game.s.02')</td>\n      <td>Synset('interpret.v.01')</td>\n      <td>1</td>\n      <td>1</td>\n      <td>0</td>\n      <td>1</td>\n      <td>0</td>\n      <td>0</td>\n      <td>1</td>\n    </tr>\n    <tr>\n      <th>37</th>\n      <td>deleterious</td>\n      <td>hurtful</td>\n      <td>Her photo has been shared on Facebook more than 77,000 times and made its way over to Twitter as well, where people who know nothing about the family except that they were all at a soccer game together have taken others to task for ignorant or hurtful comments</td>\n      <td>Her photo has been shared on Facebook more than 77,000 times and made its way over to Twitter as well, where people who know nothing about the family except that they were all at a soccer game together have taken others to task for ignorant or deleterious comments</td>\n      <td>0.998936</td>\n      <td>adjective</td>\n      <td>adjective</td>\n      <td>1</td>\n      <td>Synset('deleterious.s.01')</td>\n      <td>Synset('casual.s.05')</td>\n      <td>Synset('deleterious.s.01')</td>\n      <td>1</td>\n      <td>1</td>\n      <td>0</td>\n      <td>1</td>\n      <td>0</td>\n      <td>0</td>\n      <td>1</td>\n    </tr>\n    <tr>\n      <th>38</th>\n      <td>demur</td>\n      <td>except</td>\n      <td>Her photo has been shared on Facebook more than 77,000 times and made its way over to Twitter as well, where people who know nothing about the family except that they were all at a soccer game together have taken others to task for ignorant or hurtful comments</td>\n      <td>Her photo has been shared on Facebook more than 77,000 times and made its way over to Twitter as well, where people who know nothing about the family demur that they were all at a soccer game together have taken others to task for ignorant or hurtful comments</td>\n      <td>0.991487</td>\n      <td>subordinating conjunction</td>\n      <td>verb</td>\n      <td>0</td>\n      <td>Synset('demur.n.01')</td>\n      <td>Synset('fiddling.s.01')</td>\n      <td>Synset('demur.v.01')</td>\n      <td>0</td>\n      <td>0</td>\n      <td>0</td>\n      <td>0</td>\n      <td>0</td>\n      <td>0</td>\n      <td>1</td>\n    </tr>\n    <tr>\n      <th>39</th>\n      <td>denigrate</td>\n      <td>belittle</td>\n      <td>Do not belittle what these parents are doing for their child</td>\n      <td>Do not denigrate what these parents are doing for their child</td>\n      <td>0.984220</td>\n      <td>verb</td>\n      <td>verb</td>\n      <td>1</td>\n      <td>Synset('minimize.v.03')</td>\n      <td>Synset('digest.v.03')</td>\n      <td>Synset('minimize.v.03')</td>\n      <td>1</td>\n      <td>1</td>\n      <td>0</td>\n      <td>1</td>\n      <td>0</td>\n      <td>0</td>\n      <td>1</td>\n    </tr>\n    <tr>\n      <th>40</th>\n      <td>elicit</td>\n      <td>raise</td>\n      <td>Others also commented on Plaayer's photo, talking about their own childhoods with divorced parents who still worked together to raise their child</td>\n      <td>Others also commented on Plaayer's photo, talking about their own childhoods with divorced parents who still worked together to elicit their child</td>\n      <td>0.980964</td>\n      <td>verb</td>\n      <td>verb</td>\n      <td>0</td>\n      <td>Synset('elicit.v.03')</td>\n      <td>Synset('placid.s.01')</td>\n      <td>Synset('arouse.v.01')</td>\n      <td>1</td>\n      <td>0</td>\n      <td>0</td>\n      <td>0</td>\n      <td>0</td>\n      <td>0</td>\n      <td>1</td>\n    </tr>\n    <tr>\n      <th>41</th>\n      <td>engender</td>\n      <td>father</td>\n      <td>Plaayer is the stepmother of the little girl in the photo, who is pictured in the middle with Plaayer and her husband (the girl's father) on the left and her mother and stepfather on the right</td>\n      <td>Plaayer is the stepmother of the little girl in the photo, who is pictured in the middle with Plaayer and her husband (the girl's engender) on the left and her mother and stepfather on the right</td>\n      <td>0.994449</td>\n      <td>noun</td>\n      <td>verb</td>\n      <td>0</td>\n      <td>Synset('engender.v.01')</td>\n      <td>Synset('placid.s.01')</td>\n      <td>Synset('beget.v.01')</td>\n      <td>0</td>\n      <td>0</td>\n      <td>0</td>\n      <td>0</td>\n      <td>0</td>\n      <td>0</td>\n      <td>1</td>\n    </tr>\n    <tr>\n      <th>42</th>\n      <td>engender</td>\n      <td>mother</td>\n      <td>Plaayer is the stepmother of the little girl in the photo, who is pictured in the middle with Plaayer and her husband (the girl's father) on the left and her mother and stepfather on the right</td>\n      <td>Plaayer is the stepmother of the little girl in the photo, who is pictured in the middle with Plaayer and her husband (the girl's father) on the left and her engender and stepfather on the right</td>\n      <td>0.996376</td>\n      <td>noun</td>\n      <td>verb</td>\n      <td>0</td>\n      <td>Synset('engender.v.01')</td>\n      <td>Synset('equitable.a.01')</td>\n      <td>Synset('beget.v.01')</td>\n      <td>0</td>\n      <td>0</td>\n      <td>0</td>\n      <td>0</td>\n      <td>0</td>\n      <td>0</td>\n      <td>1</td>\n    </tr>\n    <tr>\n      <th>43</th>\n      <td>ephemeral</td>\n      <td>passing</td>\n      <td>Welcome to Mothership: Parenting stories you actually want to read, whether you're thinking about or passing on kids, from egg-freezing to taking home baby and beyond</td>\n      <td>Welcome to Mothership: Parenting stories you actually want to read, whether you're thinking about or ephemeral on kids, from egg-freezing to taking home baby and beyond</td>\n      <td>0.997091</td>\n      <td>verb</td>\n      <td>adjective</td>\n      <td>0</td>\n      <td>Synset('ephemeron.n.01')</td>\n      <td>Synset('demur.v.01')</td>\n      <td>Synset('ephemeral.s.01')</td>\n      <td>0</td>\n      <td>0</td>\n      <td>0</td>\n      <td>0</td>\n      <td>0</td>\n      <td>0</td>\n      <td>1</td>\n    </tr>\n    <tr>\n      <th>44</th>\n      <td>magnanimous</td>\n      <td>big</td>\n      <td>Because motherhood is a big if — not when — and it's time we talked about it that way</td>\n      <td>Because motherhood is a magnanimous if — not when — and it's time we talked about it that way</td>\n      <td>0.835043</td>\n      <td>adjective</td>\n      <td>adjective</td>\n      <td>0</td>\n      <td>Synset('greathearted.s.01')</td>\n      <td>Synset('interpret.v.01')</td>\n      <td>Synset('big.s.11')</td>\n      <td>1</td>\n      <td>0</td>\n      <td>0</td>\n      <td>0</td>\n      <td>0</td>\n      <td>0</td>\n      <td>1</td>\n    </tr>\n    <tr>\n      <th>45</th>\n      <td>magnanimous</td>\n      <td>big</td>\n      <td>Two Dad's, two moms, 4 grandmas and a big ass support system,\" another wrote</td>\n      <td>Two Dad's, two moms, 4 grandmas and a magnanimous ass support system,\" another wrote</td>\n      <td>0.909175</td>\n      <td>adjective</td>\n      <td>adjective</td>\n      <td>0</td>\n      <td>Synset('greathearted.s.01')</td>\n      <td>Synset('mettlesome.s.01')</td>\n      <td>Synset('big.s.11')</td>\n      <td>1</td>\n      <td>0</td>\n      <td>0</td>\n      <td>0</td>\n      <td>0</td>\n      <td>0</td>\n      <td>1</td>\n    </tr>\n    <tr>\n      <th>46</th>\n      <td>transient</td>\n      <td>passing</td>\n      <td>Welcome to Mothership: Parenting stories you actually want to read, whether you're thinking about or passing on kids, from egg-freezing to taking home baby and beyond</td>\n      <td>Welcome to Mothership: Parenting stories you actually want to read, whether you're thinking about or transient on kids, from egg-freezing to taking home baby and beyond</td>\n      <td>0.998072</td>\n      <td>verb</td>\n      <td>adjective</td>\n      <td>0</td>\n      <td>Synset('transient.n.02')</td>\n      <td>Synset('fiddling.s.01')</td>\n      <td>Synset('ephemeral.s.01')</td>\n      <td>0</td>\n      <td>0</td>\n      <td>0</td>\n      <td>0</td>\n      <td>0</td>\n      <td>0</td>\n      <td>1</td>\n    </tr>\n    <tr>\n      <th>47</th>\n      <td>veracious</td>\n      <td>right</td>\n      <td>Plaayer is the stepmother of the little girl in the photo, who is pictured in the middle with Plaayer and her husband (the girl's father) on the left and her mother and stepfather on the right</td>\n      <td>Plaayer is the stepmother of the little girl in the photo, who is pictured in the middle with Plaayer and her husband (the girl's father) on the left and her mother and stepfather on the veracious</td>\n      <td>0.994747</td>\n      <td>noun</td>\n      <td>adjective</td>\n      <td>0</td>\n      <td>Synset('veracious.s.01')</td>\n      <td>Synset('deleterious.s.01')</td>\n      <td>Synset('veracious.s.02')</td>\n      <td>0</td>\n      <td>0</td>\n      <td>0</td>\n      <td>0</td>\n      <td>0</td>\n      <td>0</td>\n      <td>1</td>\n    </tr>\n  </tbody>\n</table>\n</div>"
     },
     "metadata": {},
     "execution_count": 8
    }
   ],
   "source": [
    "# For an example of the entire labeled dataset and results, see below.\n",
    "master_df"
   ]
  },
  {
   "cell_type": "code",
   "execution_count": null,
   "metadata": {},
   "outputs": [],
   "source": []
  }
 ]
}